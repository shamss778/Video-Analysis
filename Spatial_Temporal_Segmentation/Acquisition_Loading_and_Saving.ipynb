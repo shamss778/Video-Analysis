{
 "cells": [
  {
   "cell_type": "code",
   "execution_count": 1,
   "id": "2f6be1cd",
   "metadata": {},
   "outputs": [],
   "source": [
    "import cv2 as cv"
   ]
  },
  {
   "cell_type": "code",
   "execution_count": 12,
   "id": "ecd20dae",
   "metadata": {},
   "outputs": [],
   "source": [
    "video = cv.VideoCapture('my_video.mp4')"
   ]
  },
  {
   "cell_type": "code",
   "execution_count": 14,
   "id": "a4787eed",
   "metadata": {},
   "outputs": [
    {
     "name": "stdout",
     "output_type": "stream",
     "text": [
      "Video frame width: \t   854.0\n",
      "Video frame height: \t   480.0\n",
      "Video frame rate property: 23.976023976023978\n"
     ]
    }
   ],
   "source": [
    "# Display relative video propreties\n",
    "print(\"Video frame width: \\t  \", video.get(cv.CAP_PROP_FRAME_WIDTH))\n",
    "print(\"Video frame height: \\t  \", video.get(cv.CAP_PROP_FRAME_HEIGHT))\n",
    "print(\"Video frame rate property:\", video.get(cv.CAP_PROP_FPS))"
   ]
  },
  {
   "cell_type": "code",
   "execution_count": null,
   "id": "60cca911",
   "metadata": {},
   "outputs": [],
   "source": []
  }
 ],
 "metadata": {
  "kernelspec": {
   "display_name": "Python 3",
   "language": "python",
   "name": "python3"
  },
  "language_info": {
   "codemirror_mode": {
    "name": "ipython",
    "version": 3
   },
   "file_extension": ".py",
   "mimetype": "text/x-python",
   "name": "python",
   "nbconvert_exporter": "python",
   "pygments_lexer": "ipython3",
   "version": "3.13.7"
  }
 },
 "nbformat": 4,
 "nbformat_minor": 5
}
