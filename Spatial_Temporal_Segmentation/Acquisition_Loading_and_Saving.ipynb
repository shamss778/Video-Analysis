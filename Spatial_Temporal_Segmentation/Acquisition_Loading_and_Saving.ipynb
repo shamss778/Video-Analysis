{
 "cells": [
  {
   "cell_type": "code",
   "execution_count": 13,
   "id": "2f6be1cd",
   "metadata": {},
   "outputs": [],
   "source": [
    "import cv2 as cv\n",
    "import os"
   ]
  },
  {
   "cell_type": "code",
   "execution_count": 11,
   "id": "ecd20dae",
   "metadata": {},
   "outputs": [],
   "source": [
    "video = cv.VideoCapture('my_video.mp4')"
   ]
  },
  {
   "cell_type": "code",
   "execution_count": 12,
   "id": "a4787eed",
   "metadata": {},
   "outputs": [
    {
     "name": "stdout",
     "output_type": "stream",
     "text": [
      "Video frame width: \t   854\n",
      "Video frame height: \t   480\n",
      "Video frame rate property: 23.976023976023978\n",
      "Video frame count: \t   136\n",
      "Video duration (s): \t   5.672333333333333\n"
     ]
    }
   ],
   "source": [
    "# Display relative video propreties\n",
    "width = int(video.get(cv.CAP_PROP_FRAME_WIDTH))\n",
    "height = int(video.get(cv.CAP_PROP_FRAME_HEIGHT))\n",
    "frame_rate = video.get(cv.CAP_PROP_FPS)\n",
    "frame_count = int(video.get(cv.CAP_PROP_FRAME_COUNT))\n",
    "duration = frame_count / frame_rate\n",
    "\n",
    "print(\"Video frame width: \\t  \", width)\n",
    "print(\"Video frame height: \\t  \", height)\n",
    "print(\"Video frame rate property:\", frame_rate)\n",
    "print(\"Video frame count: \\t  \", frame_count)\n",
    "print(\"Video duration (s): \\t  \", duration)"
   ]
  },
  {
   "cell_type": "code",
   "execution_count": 4,
   "id": "60cca911",
   "metadata": {},
   "outputs": [
    {
     "name": "stdout",
     "output_type": "stream",
     "text": [
      "136 frames saved.\n"
     ]
    }
   ],
   "source": [
    "frame_nb = 0\n",
    "frames_left = True\n",
    "\n",
    "while True:\n",
    "    frames_left, frame = video.read()\n",
    "    if not frames_left:\n",
    "        break\n",
    "    frame_name = os.path.join('frames', f\"frame_{frame_nb:04d}.jpg\")\n",
    "    cv.imwrite(frame_name, frame) # saves the frame\n",
    "    cv.imshow('Frame', frame)     # Show frame \n",
    "    frame_nb += 1\n",
    "    key = cv.waitKey(50)\n",
    "\n",
    "print(f\"{frame_nb} frames saved.\")\n",
    "video.release()\n",
    "cv.destroyAllWindows()\n"
   ]
  },
  {
   "cell_type": "code",
   "execution_count": null,
   "id": "ca2b8398",
   "metadata": {},
   "outputs": [],
   "source": [
    "# Spatial Segmentation:\n",
    "video = cv.VideoCapture('data/my_video.mp4')\n",
    "frame_nb = 0\n",
    "frames_left = True\n",
    "\n",
    "fourcc = cv.VideoWriter_fourcc(*'XVID')\n",
    "out = cv.VideoWriter('grayscale_video.avi', fourcc, frame_rate, (width, height), isColor=False)\n",
    "\n",
    "while True:\n",
    "    frames_left, frame = video.read()\n",
    "    if not frames_left:\n",
    "        break\n",
    "    gray = cv.cvtColor(frame, cv.COLOR_BGR2GRAY)\n",
    "    frame_name = os.path.join('grayscale_frames', f\"frame_{frame_nb:04d}.jpg\")\n",
    "    cv.imwrite(frame_name, gray) # saves the frame\n",
    "    out.write(gray)  # Write the grayscale frame to the output video\n",
    "    cv.imshow('Frame', gray) # Show gray frame\n",
    "    frame_nb += 1\n",
    "    key = cv.waitKey(50)\n",
    "\n",
    "video.release()\n",
    "out.release()\n",
    "cv.destroyAllWindows()\n"
   ]
  },
  {
   "cell_type": "code",
   "execution_count": 6,
   "id": "a1f4e534",
   "metadata": {},
   "outputs": [],
   "source": [
    "frame = cv.imread('frames/frame_0089.jpg')\n",
    "gray_frame = cv.cvtColor(frame, cv.COLOR_BGR2GRAY)\n",
    "cv.imshow('Gray Frame', gray_frame)\n",
    "cv.waitKey(0)\n",
    "cv.destroyAllWindows()"
   ]
  },
  {
   "cell_type": "code",
   "execution_count": 17,
   "id": "e5fda408",
   "metadata": {},
   "outputs": [
    {
     "name": "stdout",
     "output_type": "stream",
     "text": [
      "Iteration 1, T = 15\n",
      "Iteration 2, T = 71.26138283342178\n",
      "Iteration 3, T = 95.37107258742726\n",
      "Iteration 4, T = 95.59410455848432\n",
      "Iteration 5, T = 95.59410455848432\n",
      "Iteration 1, T = 120\n",
      "Iteration 2, T = 95.87348035114502\n",
      "Iteration 3, T = 95.59410455848432\n",
      "Iteration 4, T = 95.59410455848432\n",
      "Iteration 5, T = 95.59410455848432\n",
      "Iteration 1, T = 240\n",
      "Iteration 2, T = 159.01415774412868\n",
      "Iteration 3, T = 98.852059074916\n",
      "Iteration 4, T = 95.62135845355246\n",
      "Iteration 5, T = 95.59410455848432\n"
     ]
    }
   ],
   "source": [
    "# Algo de seuillage global heuristique\n",
    "Threshold = [15 ,120, 240]\n",
    "\n",
    "for T in Threshold:\n",
    "    for i in range(5):\n",
    "        print(f\"Iteration {i+1}, T = {T}\")\n",
    "        _, binary_frame = cv.threshold(gray_frame, T, 255, cv.THRESH_BINARY)\n",
    "        mean1 = gray_frame[binary_frame == 255].mean()\n",
    "        mean2 = gray_frame[binary_frame == 0].mean()\n",
    "        T = (mean1 + mean2) / 2\n",
    "        cv.imshow('Binary Frame', binary_frame)\n",
    "        cv.waitKey(0)\n",
    "    cv.destroyAllWindows()"
   ]
  },
  {
   "cell_type": "code",
   "execution_count": 14,
   "id": "d2f90347",
   "metadata": {},
   "outputs": [],
   "source": [
    "_, binary_frame = cv.threshold(gray_frame, 0, 255, cv.THRESH_BINARY + cv.THRESH_OTSU)\n",
    "cv.imshow('original Gray Frame', gray_frame)\n",
    "cv.imshow('Otsu Binary Frame', binary_frame)\n",
    "cv.waitKey(0)\n",
    "cv.destroyAllWindows()"
   ]
  },
  {
   "cell_type": "code",
   "execution_count": 15,
   "id": "83d8c320",
   "metadata": {},
   "outputs": [],
   "source": [
    "# Otsu segmentation on video\n",
    "video = cv.VideoCapture('my_video.mp4')\n",
    "frame_nb = 0\n",
    "frames_left = True\n",
    "\n",
    "while True:\n",
    "    frames_left, frame = video.read()\n",
    "    if not frames_left:\n",
    "        break\n",
    "    gray_frame = cv.cvtColor(frame, cv.COLOR_BGR2GRAY)\n",
    "    _, binary_frame = cv.threshold(gray_frame, 0, 255, cv.THRESH_BINARY + cv.THRESH_OTSU)\n",
    "    cv.imshow('Frame', frame) # Show original frame\n",
    "    cv.imshow('Otsu Binary Frame', binary_frame) # Show Otsu frame \n",
    "    key = cv.waitKey(50)\n",
    "\n",
    "video.release()\n",
    "cv.destroyAllWindows()"
   ]
  },
  {
   "cell_type": "code",
   "execution_count": 10,
   "id": "43a3f5b0",
   "metadata": {},
   "outputs": [],
   "source": [
    "video = cv.VideoCapture('grayscale_video.avi')\n",
    "frames_left = True\n",
    "lambda_val = 94.4257879577422 # Threshold for difference\n",
    "\n",
    "_ , old_frame = video.read()\n",
    "\n",
    "while True:\n",
    "    frames_left, frame = video.read()\n",
    "    if not frames_left:\n",
    "        break\n",
    "    difference = cv.absdiff(old_frame, frame)\n",
    "    _, difference = cv.threshold(difference, lambda_val, 255, cv.THRESH_BINARY)\n",
    "    cv.imshow('Frame', frame)\n",
    "    cv.imshow('Difference', difference)\n",
    "    old_frame = frame\n",
    "    key = cv.waitKey(50)\n",
    "\n",
    "video.release()\n",
    "cv.destroyAllWindows()"
   ]
  },
  {
   "cell_type": "code",
   "execution_count": 16,
   "id": "3f712aa2",
   "metadata": {},
   "outputs": [],
   "source": [
    "# Frame differencing method\n",
    "folder = 'grayscale_frames'\n",
    "grayscale_frames = sorted(os.listdir(folder))\n",
    "lambda_val = 94.4257879577422 # Threshold for difference\n",
    "\n",
    "N = [ 23 ] # Number of frames to consider for differencing\n",
    "for n in N:\n",
    "    \n",
    "    for i in range(len(grayscale_frames) + n):\n",
    "        if i - n < 0 or i + n >= len(grayscale_frames):\n",
    "            continue\n",
    "        img = cv.imread(os.path.join(folder, grayscale_frames[i]), cv.IMREAD_GRAYSCALE)\n",
    "        img_after = cv.imread(os.path.join(folder, grayscale_frames[i + n]), cv.IMREAD_GRAYSCALE)\n",
    "        img_before = cv.imread(os.path.join(folder, grayscale_frames[i - n]), cv.IMREAD_GRAYSCALE)\n",
    "        \n",
    "        diff1 = abs(img_after - img)\n",
    "        _, diff1 = cv.threshold(diff1, lambda_val, 255, cv.THRESH_BINARY)\n",
    "        \n",
    "        diff2 = abs(img - img_before)\n",
    "        _, diff2 = cv.threshold(diff2, lambda_val, 255, cv.THRESH_BINARY)\n",
    "        \n",
    "        result = cv.bitwise_and(diff1, diff2)\n",
    "        \n",
    "        cv.imshow('Result', result)\n",
    "        key = cv.waitKey(50)\n",
    "    cv.destroyAllWindows()\n"
   ]
  },
  {
   "cell_type": "code",
   "execution_count": 12,
   "id": "b18e10ec",
   "metadata": {},
   "outputs": [],
   "source": [
    "video = cv.VideoCapture('my_video.mp4')\n",
    "frames_left = True\n",
    "lambda_val = 94.4257879577422 # Threshold for difference\n",
    "alpha = frame_rate / (frame_rate + 1) # Smoothing factor\n",
    "_ , old_frame = video.read()\n",
    "b=0\n",
    "\n",
    "while True:\n",
    "    frames_left, frame = video.read()\n",
    "    if not frames_left:\n",
    "        break\n",
    "    diff = abs(alpha * frame + (1 - alpha) * old_frame)\n",
    "    _, diff = cv.threshold(diff, lambda_val, 255, cv.THRESH_BINARY)\n",
    "    cv.imshow('Frame', frame)\n",
    "    cv.imshow('Difference', diff)\n",
    "    old_frame = frame\n",
    "    key = cv.waitKey(50)\n",
    "video.release()\n",
    "cv.destroyAllWindows()"
   ]
  }
 ],
 "metadata": {
  "kernelspec": {
   "display_name": "Python 3",
   "language": "python",
   "name": "python3"
  },
  "language_info": {
   "codemirror_mode": {
    "name": "ipython",
    "version": 3
   },
   "file_extension": ".py",
   "mimetype": "text/x-python",
   "name": "python",
   "nbconvert_exporter": "python",
   "pygments_lexer": "ipython3",
   "version": "3.13.7"
  }
 },
 "nbformat": 4,
 "nbformat_minor": 5
}
