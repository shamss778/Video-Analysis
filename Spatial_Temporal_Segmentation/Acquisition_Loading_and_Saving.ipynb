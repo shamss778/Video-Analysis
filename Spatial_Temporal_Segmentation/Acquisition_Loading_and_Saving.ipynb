{
 "cells": [
  {
   "cell_type": "code",
   "execution_count": 1,
   "id": "2f6be1cd",
   "metadata": {},
   "outputs": [],
   "source": [
    "import cv2 as cv\n",
    "import os\n",
    "import time"
   ]
  },
  {
   "cell_type": "code",
   "execution_count": 2,
   "id": "ecd20dae",
   "metadata": {},
   "outputs": [],
   "source": [
    "video = cv.VideoCapture('my_video.mp4')"
   ]
  },
  {
   "cell_type": "code",
   "execution_count": 3,
   "id": "a4787eed",
   "metadata": {},
   "outputs": [
    {
     "name": "stdout",
     "output_type": "stream",
     "text": [
      "Video frame width: \t   640.0\n",
      "Video frame height: \t   360.0\n",
      "Video frame rate property: 25.0\n"
     ]
    }
   ],
   "source": [
    "# Display relative video propreties\n",
    "print(\"Video frame width: \\t  \", video.get(cv.CAP_PROP_FRAME_WIDTH))\n",
    "print(\"Video frame height: \\t  \", video.get(cv.CAP_PROP_FRAME_HEIGHT))\n",
    "print(\"Video frame rate property:\", video.get(cv.CAP_PROP_FPS))"
   ]
  },
  {
   "cell_type": "code",
   "execution_count": 4,
   "id": "60cca911",
   "metadata": {},
   "outputs": [
    {
     "name": "stdout",
     "output_type": "stream",
     "text": [
      "160 frames saved.\n"
     ]
    }
   ],
   "source": [
    "frame_nb = 0\n",
    "frames_left = True\n",
    "\n",
    "while True:\n",
    "    frames_left, frame = video.read()\n",
    "    if not frames_left:\n",
    "        break\n",
    "    frame_name = os.path.join('frames', f\"frame_{frame_nb:04d}.jpg\")\n",
    "    cv.imwrite(frame_name, frame) # saves the frame\n",
    "    cv.imshow('Frame', frame)     # Show frame \n",
    "    frame_nb += 1\n",
    "    key = cv.waitKey(50)\n",
    "\n",
    "print(f\"{frame_nb} frames saved.\")\n",
    "video.release()\n",
    "cv.destroyAllWindows()\n"
   ]
  },
  {
   "cell_type": "code",
   "execution_count": 5,
   "id": "ca2b8398",
   "metadata": {},
   "outputs": [],
   "source": [
    "# Spatial Segmentation:\n",
    "video = cv.VideoCapture('my_video.mp4')\n",
    "frame_nb = 0\n",
    "frames_left = True\n",
    "\n",
    "while True:\n",
    "    frames_left, frame = video.read()\n",
    "    if not frames_left:\n",
    "        break\n",
    "    cv.imshow('Frame', cv.cvtColor(frame, cv.COLOR_BGR2GRAY)) \n",
    "    frame_nb += 1\n",
    "    key = cv.waitKey(50)\n",
    "\n",
    "video.release()\n",
    "cv.destroyAllWindows()\n"
   ]
  },
  {
   "cell_type": "code",
   "execution_count": 6,
   "id": "a1f4e534",
   "metadata": {},
   "outputs": [],
   "source": [
    "frame = cv.imread('frames/frame_0089.jpg')\n",
    "gray_frame = cv.cvtColor(frame, cv.COLOR_BGR2GRAY)\n",
    "cv.imshow('Gray Frame', gray_frame)\n",
    "cv.waitKey(0)\n",
    "cv.destroyAllWindows()"
   ]
  },
  {
   "cell_type": "code",
   "execution_count": 11,
   "id": "e5fda408",
   "metadata": {},
   "outputs": [
    {
     "name": "stdout",
     "output_type": "stream",
     "text": [
      "Iteration 1, T = 25\n",
      "Iteration 2, T = 82.70778794334248\n",
      "Iteration 3, T = 94.15467179766662\n",
      "Iteration 4, T = 94.4257879577422\n",
      "Iteration 5, T = 94.4257879577422\n"
     ]
    }
   ],
   "source": [
    "# Algo de seuillage global heuristique\n",
    "T = 25\n",
    "for i in range(5):\n",
    "    print(f\"Iteration {i+1}, T = {T}\")\n",
    "    _, binary_frame = cv.threshold(gray_frame, T, 255, cv.THRESH_BINARY)\n",
    "    mean1 = gray_frame[binary_frame == 255].mean()\n",
    "    mean2 = gray_frame[binary_frame == 0].mean()\n",
    "    T = (mean1 + mean2) / 2\n",
    "    cv.imshow('Binary Frame', binary_frame)\n",
    "    cv.waitKey(0)\n",
    "cv.destroyAllWindows()"
   ]
  },
  {
   "cell_type": "code",
   "execution_count": null,
   "id": "d2f90347",
   "metadata": {},
   "outputs": [],
   "source": []
  }
 ],
 "metadata": {
  "kernelspec": {
   "display_name": "Python 3",
   "language": "python",
   "name": "python3"
  },
  "language_info": {
   "codemirror_mode": {
    "name": "ipython",
    "version": 3
   },
   "file_extension": ".py",
   "mimetype": "text/x-python",
   "name": "python",
   "nbconvert_exporter": "python",
   "pygments_lexer": "ipython3",
   "version": "3.13.7"
  }
 },
 "nbformat": 4,
 "nbformat_minor": 5
}
